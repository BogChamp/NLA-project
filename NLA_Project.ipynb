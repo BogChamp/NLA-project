{
  "cells": [
    {
      "cell_type": "code",
      "execution_count": 199,
      "id": "aaa59e26",
      "metadata": {
        "id": "aaa59e26"
      },
      "outputs": [],
      "source": [
        "import torch\n",
        "import torch.nn as nn\n",
        "import requests\n",
        "from torch import autograd\n",
        "import torchvision\n",
        "import torchvision.transforms as transforms\n",
        "import numpy as np\n",
        "import matplotlib.pyplot as plt"
      ]
    },
    {
      "cell_type": "code",
      "execution_count": 200,
      "id": "63467fb5",
      "metadata": {
        "id": "63467fb5"
      },
      "outputs": [],
      "source": [
        "def download_file_from_google_drive(id, destination):\n",
        "    URL = \"https://docs.google.com/uc?export=download\"\n",
        "\n",
        "    session = requests.Session()\n",
        "\n",
        "    response = session.get(URL, params = { 'id' : id }, stream = True)\n",
        "    token = get_confirm_token(response)\n",
        "\n",
        "    if token:\n",
        "        params = { 'id' : id, 'confirm' : token }\n",
        "        response = session.get(URL, params = params, stream = True)\n",
        "\n",
        "    save_response_content(response, destination)\n",
        "\n",
        "\n",
        "def get_confirm_token(response):\n",
        "    for key, value in response.cookies.items():\n",
        "        if key.startswith('download_warning'):\n",
        "            return value\n",
        "\n",
        "    return None\n",
        "\n",
        "\n",
        "def save_response_content(response, destination):\n",
        "    CHUNK_SIZE = 32768\n",
        "\n",
        "    with open(destination, \"wb\") as f:\n",
        "        for chunk in response.iter_content(CHUNK_SIZE):\n",
        "            if chunk: # filter out keep-alive new chunks\n",
        "                f.write(chunk)"
      ]
    },
    {
      "cell_type": "code",
      "execution_count": 201,
      "id": "54a11b91",
      "metadata": {
        "id": "54a11b91"
      },
      "outputs": [],
      "source": [
        "class CifarNet(nn.Module):\n",
        "    def __init__(self):\n",
        "        super(CifarNet, self).__init__()\n",
        "        self.conv1 = nn.Conv2d(3, 64, kernel_size=3)\n",
        "        self.conv2 = nn.Conv2d(64, 64, kernel_size=3)\n",
        "        self.conv3 = nn.Conv2d(64, 128, kernel_size=3)\n",
        "        self.conv4 = nn.Conv2d(128, 128, kernel_size=3)\n",
        "\n",
        "        self.pool = nn.MaxPool2d(2, 2)\n",
        "\n",
        "        self.relu = nn.ReLU(inplace=True)\n",
        "        self.fc1 = nn.Linear(3200, 256)\n",
        "        \n",
        "        self.dropout = nn.Dropout(0.5)\n",
        "        \n",
        "        self.fc2 = nn.Linear(256, 256)\n",
        "        self.fc3 = nn.Linear(256, 10)\n",
        "\n",
        "    def forward(self, x):\n",
        "        x = self.relu(self.conv1(x))\n",
        "        x = self.relu(self.conv2(x))\n",
        "        x = self.pool(x)\n",
        "\n",
        "        x = self.relu(self.conv3(x))\n",
        "        x = self.relu(self.conv4(x))\n",
        "        x = self.pool(x)\n",
        "\n",
        "        x = x.view(-1, 3200)\n",
        "        x = self.relu(self.fc1(x))\n",
        "        x = self.dropout(x)\n",
        "        \n",
        "        x = self.relu(self.fc2(x))\n",
        "        x = self.fc3(x)\n",
        "\n",
        "        return x"
      ]
    },
    {
      "cell_type": "code",
      "execution_count": 202,
      "id": "ff60d259",
      "metadata": {
        "id": "ff60d259"
      },
      "outputs": [],
      "source": [
        "class CifarNetMod(nn.Module):\n",
        "    def __init__(self, kron1, kron2, kron3):\n",
        "        super(CifarNetMod, self).__init__()\n",
        "        self.conv1 = nn.Conv2d(3, 64, kernel_size=3)\n",
        "        self.conv2 = nn.Conv2d(64, 64, kernel_size=3)\n",
        "        self.conv3 = nn.Conv2d(64, 128, kernel_size=3)\n",
        "        self.conv4 = nn.Conv2d(128, 128, kernel_size=3)\n",
        "\n",
        "        self.pool = nn.MaxPool2d(2, 2)\n",
        "\n",
        "        self.relu = nn.ReLU(inplace=True)\n",
        "        self.fc1 = nn.Linear(3200, 256)\n",
        "        \n",
        "        self.dropout = nn.Dropout(0.5)\n",
        "        \n",
        "        self.fc2 = nn.Linear(256, 256)\n",
        "        self.fc3 = nn.Linear(256, 10)\n",
        "        \n",
        "        self.fc1mod = kron1\n",
        "        self.fc2mod = kron2\n",
        "        self.fc3mod = kron3\n",
        "\n",
        "    def forward(self, x):\n",
        "        x = self.relu(self.conv1(x))\n",
        "        x = self.relu(self.conv2(x))\n",
        "        x = self.pool(x)\n",
        "\n",
        "        x = self.relu(self.conv3(x))\n",
        "        x = self.relu(self.conv4(x))\n",
        "        x = self.pool(x)\n",
        "\n",
        "        x = x.view(-1, 3200)\n",
        "        #x = self.relu(self.fc1(x))\n",
        "        tmp = []\n",
        "        for A, B in self.fc1mod:\n",
        "            if not len(tmp):\n",
        "                tmp = torch.kron(A.T, B.T)\n",
        "            else:\n",
        "                tmp += torch.kron(A.T, B.T)\n",
        "        \n",
        "        x = torch.matmul(x, tmp) + self.fc1.bias\n",
        "        x = self.relu(x)\n",
        "        \n",
        "        x = self.dropout(x)\n",
        "        \n",
        "        #x = self.relu(self.fc2(x))\n",
        "        tmp = []\n",
        "        for A, B in self.fc2mod:\n",
        "            if not len(tmp):\n",
        "                tmp = torch.kron(A.T, B.T)\n",
        "            else:\n",
        "                tmp += torch.kron(A.T, B.T)\n",
        "            \n",
        "        x = torch.matmul(x, tmp) + self.fc2.bias\n",
        "        x = self.relu(x)\n",
        "        \n",
        "        #x = self.fc3(x)\n",
        "        tmp = []\n",
        "        for A, B in self.fc3mod:\n",
        "            if not len(tmp):\n",
        "                tmp = torch.kron(A.T, B.T)\n",
        "            else:\n",
        "                tmp += torch.kron(A.T, B.T)\n",
        "\n",
        "        x = torch.matmul(x, tmp) + self.fc3.bias\n",
        "\n",
        "        return x"
      ]
    },
    {
      "cell_type": "code",
      "execution_count": 203,
      "id": "23a9b36d",
      "metadata": {
        "colab": {
          "base_uri": "https://localhost:8080/"
        },
        "id": "23a9b36d",
        "outputId": "bdf30a86-8abe-4274-cd5f-480974437982"
      },
      "outputs": [
        {
          "output_type": "execute_result",
          "data": {
            "text/plain": [
              "<All keys matched successfully>"
            ]
          },
          "metadata": {},
          "execution_count": 203
        }
      ],
      "source": [
        "device = \"cuda:0\" if torch.cuda.is_available() else \"cpu\"\n",
        "\n",
        "file_id = \"1qrNvr3eLYjvbkVg5jY2sYA2rqK9XkTXs\"\n",
        "download_file_from_google_drive(file_id, \"./cifar_checkpoint.pth\")\n",
        "\n",
        "model = CifarNet().to(device)\n",
        "model.load_state_dict(torch.load(\"./cifar_checkpoint.pth\", map_location=\"cpu\"))"
      ]
    },
    {
      "cell_type": "code",
      "execution_count": 204,
      "id": "e312776f",
      "metadata": {
        "colab": {
          "base_uri": "https://localhost:8080/"
        },
        "id": "e312776f",
        "outputId": "831ff1af-ca74-4081-d516-d56fe47e0adf"
      },
      "outputs": [
        {
          "output_type": "stream",
          "name": "stdout",
          "text": [
            "Files already downloaded and verified\n",
            "Files already downloaded and verified\n"
          ]
        }
      ],
      "source": [
        "transform = transforms.Compose(\n",
        "    [transforms.ToTensor(),\n",
        "     transforms.Normalize((0.5, 0.5, 0.5), (0.5, 0.5, 0.5))])\n",
        "\n",
        "batch_size = 64\n",
        "\n",
        "trainset = torchvision.datasets.CIFAR10(root='./data', train=True,\n",
        "                                        download=True, transform=transform)\n",
        "trainloader = torch.utils.data.DataLoader(trainset, batch_size=batch_size,\n",
        "                                          shuffle=True, num_workers=1)\n",
        "\n",
        "testset = torchvision.datasets.CIFAR10(root='./data', train=False,\n",
        "                                       download=True, transform=transform)\n",
        "testloader = torch.utils.data.DataLoader(testset, batch_size=batch_size,\n",
        "                                         shuffle=False, num_workers=1)\n",
        "\n",
        "classes = ('plane', 'car', 'bird', 'cat',\n",
        "           'deer', 'dog', 'frog', 'horse', 'ship', 'truck')"
      ]
    },
    {
      "cell_type": "code",
      "execution_count": null,
      "id": "916071ce",
      "metadata": {
        "colab": {
          "base_uri": "https://localhost:8080/"
        },
        "id": "916071ce",
        "outputId": "782c091b-a39d-4852-b9f6-e9561e4e064c"
      },
      "outputs": [
        {
          "output_type": "stream",
          "name": "stdout",
          "text": [
            "Accuracy of the network on the 10000 test images: 68 %\n",
            "CPU times: user 27.7 s, sys: 607 ms, total: 28.3 s\n",
            "Wall time: 28.4 s\n"
          ]
        }
      ],
      "source": [
        "%%time\n",
        "matched = 0\n",
        "total = 0\n",
        "\n",
        "with torch.no_grad():\n",
        "    for images, labels in testloader:\n",
        "        outputs = model(images)\n",
        "        _, predicted = torch.max(outputs.data, 1)\n",
        "        total += labels.size(0)\n",
        "        matched += (predicted == labels).sum().item()\n",
        "\n",
        "print(f'Accuracy of the network on the 10000 test images: {100 * matched // total} %')"
      ]
    },
    {
      "cell_type": "code",
      "execution_count": null,
      "id": "1562570b",
      "metadata": {
        "colab": {
          "base_uri": "https://localhost:8080/"
        },
        "id": "1562570b",
        "outputId": "7b2a7f94-a1df-43eb-cf34-372291e0eba4"
      },
      "outputs": [
        {
          "output_type": "execute_result",
          "data": {
            "text/plain": [
              "CifarNet(\n",
              "  (conv1): Conv2d(3, 64, kernel_size=(3, 3), stride=(1, 1))\n",
              "  (conv2): Conv2d(64, 64, kernel_size=(3, 3), stride=(1, 1))\n",
              "  (conv3): Conv2d(64, 128, kernel_size=(3, 3), stride=(1, 1))\n",
              "  (conv4): Conv2d(128, 128, kernel_size=(3, 3), stride=(1, 1))\n",
              "  (pool): MaxPool2d(kernel_size=2, stride=2, padding=0, dilation=1, ceil_mode=False)\n",
              "  (relu): ReLU(inplace=True)\n",
              "  (fc1): Linear(in_features=3200, out_features=256, bias=True)\n",
              "  (dropout): Dropout(p=0.5, inplace=False)\n",
              "  (fc2): Linear(in_features=256, out_features=256, bias=True)\n",
              "  (fc3): Linear(in_features=256, out_features=10, bias=True)\n",
              ")"
            ]
          },
          "metadata": {},
          "execution_count": 8
        }
      ],
      "source": [
        "model"
      ]
    },
    {
      "cell_type": "code",
      "execution_count": 205,
      "id": "c085a142",
      "metadata": {
        "id": "c085a142"
      },
      "outputs": [],
      "source": [
        "def R(matrix, p, q):\n",
        "    n = matrix.shape[0] // p\n",
        "    m = matrix.shape[1] // q\n",
        "    assert n * p == matrix.shape[0]\n",
        "    assert m * q == matrix.shape[1]\n",
        "\n",
        "    r = torch.tensor([])\n",
        "    for j in range(m):\n",
        "        for i in range(n):\n",
        "            M = matrix[i*p:(i+1)*p, j*q:(j+1)*q]\n",
        "            M = M.T.flatten()\n",
        "            #print(M)\n",
        "            if not len(r):\n",
        "                r = M\n",
        "            else:\n",
        "                r = torch.vstack((r, M))\n",
        "            \n",
        "    return r"
      ]
    },
    {
      "cell_type": "code",
      "execution_count": 206,
      "id": "864c4c0a",
      "metadata": {
        "id": "864c4c0a"
      },
      "outputs": [],
      "source": [
        "def invR(vector, p, q):\n",
        "    assert p*q == vector.shape[0]\n",
        "    m = torch.tensor([])\n",
        "    for i in range(q):\n",
        "        V = vector[i*p:(i+1)*p]\n",
        "        if not len(m):\n",
        "            m = V.reshape(-1, 1)\n",
        "        else:\n",
        "            m = torch.hstack((m, V.reshape(-1, 1)))\n",
        "            \n",
        "    return m"
      ]
    },
    {
      "cell_type": "code",
      "execution_count": 207,
      "id": "94392eb1",
      "metadata": {
        "id": "94392eb1"
      },
      "outputs": [],
      "source": [
        "def kron_factor(u, s, vt, rank, p, q, p_orig, q_orig):\n",
        "    assert vt.shape[1] == p*q\n",
        "    u_ = u[:, : rank]\n",
        "    #print(rank, u_.shape)\n",
        "    s_ = s[:rank]\n",
        "    vt_ = vt[:rank, :]\n",
        "    for i in range(rank):\n",
        "        #print(u_[:,i].shape)\n",
        "        #print(vt_[i,:].shape)\n",
        "        A = invR(u_[:, i], p_orig // p, q_orig // q)\n",
        "        B = invR(s[i] * vt_[i, :], p, q)\n",
        "        yield A, B"
      ]
    },
    {
      "cell_type": "code",
      "execution_count": 210,
      "id": "94c8fa0f",
      "metadata": {
        "id": "94c8fa0f"
      },
      "outputs": [],
      "source": [
        "fc1 = model.fc1.weight\n",
        "fc2 = model.fc2.weight\n",
        "fc3 = model.fc3.weight"
      ]
    },
    {
      "cell_type": "code",
      "execution_count": null,
      "id": "98665a4c",
      "metadata": {
        "id": "98665a4c"
      },
      "outputs": [],
      "source": [
        "p1, q1 = 32, 32\n",
        "p2, q2 = 32, 32\n",
        "p3, q3 = 2, 32\n",
        "r1 = fc1.shape[0] * fc1.shape[1] // (p1 * q1)\n",
        "r2 = fc2.shape[0] * fc2.shape[1] // (p2 * q2)\n",
        "r3 = fc3.shape[0] * fc3.shape[1] // (p3 * q3)"
      ]
    },
    {
      "cell_type": "code",
      "source": [
        "part = 0.15"
      ],
      "metadata": {
        "id": "wjBnarv_Iz3I"
      },
      "id": "wjBnarv_Iz3I",
      "execution_count": null,
      "outputs": []
    },
    {
      "cell_type": "code",
      "execution_count": null,
      "id": "98cc9533",
      "metadata": {
        "id": "98cc9533"
      },
      "outputs": [],
      "source": [
        "krons = {0:[], 1:[], 2:[]}\n",
        "p = {0:p1,1:p2,2:p3}\n",
        "q = {0:q1,1:q2,2:q3}\n",
        "r = {0:int(part * r1),1:int(part*r2),2:int(part*r3)}"
      ]
    },
    {
      "cell_type": "code",
      "execution_count": null,
      "id": "a2e0bb86",
      "metadata": {
        "id": "a2e0bb86"
      },
      "outputs": [],
      "source": [
        "for i, fc in enumerate([fc1, fc2, fc3]):\n",
        "    R_ = R(fc, p[i], q[i])\n",
        "    u, s, vt = torch.linalg.svd(R_, full_matrices=False)\n",
        "    for A,B in kron_factor(u, s, vt, r[i], p[i], q[i], fc.shape[0], fc.shape[1]):\n",
        "        krons[i].append((A,B))"
      ]
    },
    {
      "cell_type": "code",
      "execution_count": null,
      "id": "be983b68",
      "metadata": {
        "id": "be983b68"
      },
      "outputs": [],
      "source": [
        "modelmod = CifarNetMod(krons[0], krons[1], krons[2]).to(device)"
      ]
    },
    {
      "cell_type": "code",
      "execution_count": null,
      "id": "ce858a91",
      "metadata": {
        "colab": {
          "base_uri": "https://localhost:8080/"
        },
        "id": "ce858a91",
        "outputId": "0af46132-f4b0-4232-cea9-2547843de963"
      },
      "outputs": [
        {
          "output_type": "execute_result",
          "data": {
            "text/plain": [
              "<All keys matched successfully>"
            ]
          },
          "metadata": {},
          "execution_count": 186
        }
      ],
      "source": [
        "modelmod.load_state_dict(torch.load(\"./cifar_checkpoint.pth\", map_location=\"cpu\"))"
      ]
    },
    {
      "cell_type": "code",
      "execution_count": null,
      "id": "88ae894f",
      "metadata": {
        "colab": {
          "base_uri": "https://localhost:8080/"
        },
        "id": "88ae894f",
        "outputId": "0f7eb32c-bc01-4e83-a529-e4e9ec2294cf"
      },
      "outputs": [
        {
          "output_type": "stream",
          "name": "stdout",
          "text": [
            "Accuracy of the network on the 10000 test images: 39 %\n",
            "CPU times: user 44.4 s, sys: 1.78 s, total: 46.2 s\n",
            "Wall time: 46.7 s\n"
          ]
        }
      ],
      "source": [
        "%%time\n",
        "matched = 0\n",
        "total = 0\n",
        "\n",
        "with torch.no_grad():\n",
        "    for images, labels in testloader:\n",
        "        outputs = modelmod(images)\n",
        "        _, predicted = torch.max(outputs.data, 1)\n",
        "        total += labels.size(0)\n",
        "        matched += (predicted == labels).sum().item()\n",
        "\n",
        "print(f'Accuracy of the network on the 10000 test images: {100 * matched // total} %')"
      ]
    },
    {
      "cell_type": "markdown",
      "source": [
        "orig - 68% \\ 27.7s \\\n",
        "0.8 rank - 68% 128s \\\n",
        "0.6 rank - 68% 103s \\\n",
        "0.4 rank - 67% 73s \\\n",
        "0.3 rank - 64% 61s \\\n",
        "0.2 rank - 56% 50s \\\n",
        "0.15 rank - 39% 44.4s \\\n",
        "0.1 rank - 27% 40s \\"
      ],
      "metadata": {
        "id": "9lbm2OShJcbQ"
      },
      "id": "9lbm2OShJcbQ"
    },
    {
      "cell_type": "code",
      "source": [
        "accuracy = [68, 68, 68, 67, 64, 56, 39, 27]\n",
        "times = [27.7, 128, 103, 73, 61, 50, 44.4, 40]\n",
        "names = [1.0, 0.8, 0.6, 0.4, 0.3, 0.2, 0.15, 0.1]"
      ],
      "metadata": {
        "id": "i4fPxd3xJjgo"
      },
      "id": "i4fPxd3xJjgo",
      "execution_count": 252,
      "outputs": []
    },
    {
      "cell_type": "code",
      "source": [
        "plt.figure(figsize=(24, 5))\n",
        "\n",
        "ax = plt.subplot(121)\n",
        "g = plt.bar(range(len(names)), accuracy, color='royalblue')\n",
        "\n",
        "plt.axhline(y=max(accuracy), color='b', linestyle='--', label=f'Max. acc.: {max(accuracy)}')\n",
        "\n",
        "plt.title('Accuracy to rank decay', fontsize=25)\n",
        "plt.xlabel('Decay', fontsize=15)\n",
        "plt.ylabel('Accuracy', fontsize=15)\n",
        "ax.tick_params(axis='both', which='major', labelsize=15)\n",
        "\n",
        "ax.set_xticklabels([None]+names) \n",
        "plt.grid(True)\n",
        "plt.legend(loc='best', fontsize=15)\n",
        "\n",
        "ax = plt.subplot(122)\n",
        "g = plt.bar(range(len(names)), times, color='royalblue')\n",
        "\n",
        "plt.axhline(y=max(times), color='b', linestyle='--', label=f'Max. dur.: {max(times)}')\n",
        "\n",
        "plt.title('Time duration to rank decay', fontsize=25)\n",
        "plt.xlabel('Decay', fontsize=15)\n",
        "plt.ylabel('Duration', fontsize=15)\n",
        "ax.tick_params(axis='both', which='major', labelsize=15)\n",
        "\n",
        "ax.set_xticklabels([None]+names) \n",
        "plt.grid(True)\n",
        "plt.legend(loc='best', fontsize=15)\n",
        "plt.savefig('./time.png')\n",
        "plt.show()"
      ],
      "metadata": {
        "id": "rOAFM73LSUWj",
        "colab": {
          "base_uri": "https://localhost:8080/",
          "height": 369
        },
        "outputId": "fe02f796-b6bd-4775-bdd9-7fd28046c4d8"
      },
      "id": "rOAFM73LSUWj",
      "execution_count": 255,
      "outputs": [
        {
          "output_type": "display_data",
          "data": {
            "text/plain": [
              "<Figure size 1728x360 with 2 Axes>"
            ],
            "image/png": "[encoded data removed]"
          },
          "metadata": {
            "needs_background": "light"
          }
        }
      ]
    },
    {
      "cell_type": "markdown",
      "source": [
        "Shapeshifter part:"
      ],
      "metadata": {
        "id": "CgTBpNhZY7CO"
      },
      "id": "CgTBpNhZY7CO"
    },
    {
      "cell_type": "code",
      "source": [
        "class CifarNetMod2(nn.Module):\n",
        "    def __init__(self, kron1, size1, kron2, size2, kron3, size3):\n",
        "        super(CifarNetMod2, self).__init__()\n",
        "        self.conv1 = nn.Conv2d(3, 64, kernel_size=3)\n",
        "        self.conv2 = nn.Conv2d(64, 64, kernel_size=3)\n",
        "        self.conv3 = nn.Conv2d(64, 128, kernel_size=3)\n",
        "        self.conv4 = nn.Conv2d(128, 128, kernel_size=3)\n",
        "\n",
        "        self.pool = nn.MaxPool2d(2, 2)\n",
        "\n",
        "        self.relu = nn.ReLU(inplace=True)\n",
        "        self.fc1 = nn.Linear(3200, 256)\n",
        "        \n",
        "        self.dropout = nn.Dropout(0.5)\n",
        "        \n",
        "        self.fc2 = nn.Linear(256, 256)\n",
        "        self.fc3 = nn.Linear(256, 10)\n",
        "        \n",
        "        self.fc1mod = kron1\n",
        "        self.fc2mod = kron2\n",
        "        self.fc3mod = kron3\n",
        "        self.size1 = size1\n",
        "        self.size2 = size2\n",
        "        self.size3 = size3\n",
        "\n",
        "    def forward(self, x):\n",
        "        x = self.relu(self.conv1(x))\n",
        "        x = self.relu(self.conv2(x))\n",
        "        x = self.pool(x)\n",
        "\n",
        "        x = self.relu(self.conv3(x))\n",
        "        x = self.relu(self.conv4(x))\n",
        "        x = self.pool(x)\n",
        "\n",
        "        x = x.view(-1, 3200)\n",
        "        #x = self.relu(self.fc1(x))\n",
        "        tmp = torch.transpose((self.fc1mod[0] @ self.fc1mod[1]).reshape(self.size1[0], self.size1[2],self.size1[1],self.size1[3]), 1, 2)\n",
        "        tmp = tmp.reshape(-1,self.size1[2]*self.size1[3])\n",
        "        x = x @ tmp.T + self.fc1.bias\n",
        "        \n",
        "        x = self.relu(x)\n",
        "        \n",
        "        x = self.dropout(x)\n",
        "        \n",
        "        #x = self.relu(self.fc2(x))\n",
        "        tmp = torch.transpose((self.fc2mod[0] @ self.fc2mod[1]).reshape(self.size2[0], self.size2[2],self.size2[1],self.size2[3]), 1, 2)\n",
        "        tmp = tmp.reshape(-1,self.size2[2]*self.size2[3])\n",
        "        x = x @ tmp.T + self.fc2.bias\n",
        "        \n",
        "        x = self.relu(x)\n",
        "        \n",
        "        #x = self.fc3(x)\n",
        "        tmp = torch.transpose((self.fc3mod[0] @ self.fc3mod[1]).reshape(self.size3[0], self.size3[2],self.size3[1],self.size3[3]), 1, 2)\n",
        "        tmp = tmp.reshape(-1,self.size3[2]*self.size3[3])\n",
        "        x = x @ tmp.T + self.fc3.bias\n",
        "        \n",
        "\n",
        "        return x"
      ],
      "metadata": {
        "id": "OM_pIDZJcO4O"
      },
      "id": "OM_pIDZJcO4O",
      "execution_count": 261,
      "outputs": []
    },
    {
      "cell_type": "code",
      "source": [
        "shapes1 = [16, 16, 50, 64]\n",
        "shapes2 = [16, 16, 16, 16]\n",
        "shapes3 = [2, 5, 16, 16]"
      ],
      "metadata": {
        "id": "UtmmtrxnXb2B"
      },
      "id": "UtmmtrxnXb2B",
      "execution_count": 257,
      "outputs": []
    },
    {
      "cell_type": "code",
      "source": [
        "F1 = torch.transpose(fc1.reshape(shapes1[0],shapes1[1],shapes1[2],shapes1[3]), 1, 2).reshape(shapes1[1]*shapes1[2],-1)\n",
        "u, s, vt = torch.linalg.svd(F1, full_matrices=False)\n",
        "A1 = u\n",
        "B1 = s.reshape(-1, 1) * vt"
      ],
      "metadata": {
        "id": "cfG0pI9iZDuy"
      },
      "id": "cfG0pI9iZDuy",
      "execution_count": 258,
      "outputs": []
    },
    {
      "cell_type": "code",
      "source": [
        "F2 = torch.transpose(fc2.reshape(shapes2[0],shapes2[1],shapes2[2],shapes2[3]), 1, 2).reshape(shapes2[1]*shapes2[2],-1)\n",
        "u, s, vt = torch.linalg.svd(F2, full_matrices=False)\n",
        "A2 = u\n",
        "B2 = s.reshape(-1, 1) * vt"
      ],
      "metadata": {
        "id": "oO5HJfB6aC2I"
      },
      "id": "oO5HJfB6aC2I",
      "execution_count": 259,
      "outputs": []
    },
    {
      "cell_type": "code",
      "source": [
        "F3 = torch.transpose(fc3.reshape(shapes3[0],shapes3[1],shapes3[2],shapes3[3]), 1, 2).reshape(shapes3[1]*shapes3[2],-1)\n",
        "u, s, vt = torch.linalg.svd(F3, full_matrices=False)\n",
        "A3 = u\n",
        "B3 = s.reshape(-1, 1) * vt"
      ],
      "metadata": {
        "id": "UMoXpLS9anap"
      },
      "id": "UMoXpLS9anap",
      "execution_count": 262,
      "outputs": []
    },
    {
      "cell_type": "code",
      "source": [
        "newr1, newr2, newr3 = int(0.2*r1), int(0.2*r2), int(0.2*r3)"
      ],
      "metadata": {
        "id": "ysB6gPGvfpVJ"
      },
      "id": "ysB6gPGvfpVJ",
      "execution_count": 291,
      "outputs": []
    },
    {
      "cell_type": "code",
      "source": [
        "modelmod2 = CifarNetMod2([A1[:,:newr1], B1[:newr1, :]], shapes1,[A2[:,:newr2], B2[:newr2, :]], shapes2,[A3[:,:newr3], B3[:newr3, :]], shapes3)"
      ],
      "metadata": {
        "id": "Xvzvk3zFZDy7"
      },
      "id": "Xvzvk3zFZDy7",
      "execution_count": 292,
      "outputs": []
    },
    {
      "cell_type": "code",
      "source": [
        "modelmod2.load_state_dict(torch.load(\"./cifar_checkpoint.pth\", map_location=\"cpu\"))"
      ],
      "metadata": {
        "colab": {
          "base_uri": "https://localhost:8080/"
        },
        "id": "7HQRR2XPgbER",
        "outputId": "b312ae8d-2412-4850-a113-e2b06deab616"
      },
      "id": "7HQRR2XPgbER",
      "execution_count": 293,
      "outputs": [
        {
          "output_type": "execute_result",
          "data": {
            "text/plain": [
              "<All keys matched successfully>"
            ]
          },
          "metadata": {},
          "execution_count": 293
        }
      ]
    },
    {
      "cell_type": "code",
      "source": [
        "%%time\n",
        "matched = 0\n",
        "total = 0\n",
        "\n",
        "with torch.no_grad():\n",
        "    for images, labels in testloader:\n",
        "        outputs = modelmod2(images)\n",
        "        _, predicted = torch.max(outputs.data, 1)\n",
        "        total += labels.size(0)\n",
        "        matched += (predicted == labels).sum().item()\n",
        "\n",
        "print(f'Accuracy of the network on the 10000 test images: {100 * matched // total} %')"
      ],
      "metadata": {
        "colab": {
          "base_uri": "https://localhost:8080/"
        },
        "id": "qrwyx06cZD4q",
        "outputId": "2bef21f5-8f5d-4bf8-a989-0671f576c0d2"
      },
      "id": "qrwyx06cZD4q",
      "execution_count": 294,
      "outputs": [
        {
          "output_type": "stream",
          "name": "stdout",
          "text": [
            "Accuracy of the network on the 10000 test images: 46 %\n",
            "CPU times: user 31.3 s, sys: 741 ms, total: 32 s\n",
            "Wall time: 34.9 s\n"
          ]
        }
      ]
    },
    {
      "cell_type": "markdown",
      "source": [
        "0.8 - 69% 33.9s \\\n",
        "0.6 - 68% 31.9s \\\n",
        "0.4 - 64% 29.5s \\\n",
        "0.3 - 61% 30.8\\\n",
        "0.2 - 46% 29.3s\\\n",
        "0.15 - 33% 28.7s\\\n",
        "0.1 - 21% 29.3"
      ],
      "metadata": {
        "id": "Ub0mrdx7ghxR"
      },
      "id": "Ub0mrdx7ghxR"
    },
    {
      "cell_type": "code",
      "source": [
        "accuracy2 = [69, 68, 68, 64, 61, 46, 33, 21]\n",
        "times2 = [27.7,33.9, 31.9, 29.5, 30.8, 29.3, 28.7, 29.3]\n",
        "names2 = [1.0, 0.8, 0.6, 0.4, 0.3, 0.2, 0.15, 0.1]"
      ],
      "metadata": {
        "id": "WbfEbtI2icvC"
      },
      "id": "WbfEbtI2icvC",
      "execution_count": 295,
      "outputs": []
    },
    {
      "cell_type": "code",
      "source": [
        "random1 = torch.rand(1050, 1050)"
      ],
      "metadata": {
        "id": "pf4ib3j0YW_r"
      },
      "id": "pf4ib3j0YW_r",
      "execution_count": 297,
      "outputs": []
    },
    {
      "cell_type": "code",
      "source": [
        "loss = []\n",
        "ranks = [1000, 900, 800, 600, 500, 300, 100]\n",
        "for rrr in ranks:\n",
        "    a_b = []\n",
        "    R_ = R(random1, 30, 35)\n",
        "    u, s, vt = torch.linalg.svd(R_, full_matrices=False)\n",
        "    for A,B in kron_factor(u, s, vt, rrr, 30, 35, random1.shape[0], random1.shape[1]):\n",
        "        a_b.append((A,B))\n",
        "\n",
        "    tmp = []\n",
        "    for A, B in a_b:\n",
        "        if not len(tmp):\n",
        "            tmp = torch.kron(A, B)\n",
        "        else:\n",
        "            tmp += torch.kron(A, B)\n",
        "    loss.append(torch.linalg.norm(random1 - tmp))"
      ],
      "metadata": {
        "id": "cimoVJBTlqD9"
      },
      "id": "cimoVJBTlqD9",
      "execution_count": 303,
      "outputs": []
    },
    {
      "cell_type": "code",
      "source": [
        "shapes = [30, 35, 30, 35]"
      ],
      "metadata": {
        "id": "62XbwcPvnOSQ"
      },
      "id": "62XbwcPvnOSQ",
      "execution_count": 310,
      "outputs": []
    },
    {
      "cell_type": "code",
      "source": [
        "F = torch.transpose(random1.reshape(shapes[0],shapes[1],shapes[2],shapes[3]), 1, 2).reshape(shapes[1]*shapes[2],-1)\n",
        "u, s, vt = torch.linalg.svd(F, full_matrices=False)\n",
        "A = u\n",
        "B = s.reshape(-1, 1) * vt"
      ],
      "metadata": {
        "id": "Vw23KUUpn-Ua"
      },
      "id": "Vw23KUUpn-Ua",
      "execution_count": 311,
      "outputs": []
    },
    {
      "cell_type": "code",
      "source": [
        "loss2 = []\n",
        "for rrr in ranks:\n",
        "    A_ = A[:,:rrr]\n",
        "    B_ = B[:rrr, :]\n",
        "    tmp = torch.transpose((A_ @ B_).reshape(shapes[0], shapes[2], shapes[1], shapes[3]), 1, 2)\n",
        "    tmp = tmp.reshape(-1, shapes[2]* shapes[3])\n",
        "    loss2.append(torch.linalg.norm(random1 - tmp))"
      ],
      "metadata": {
        "id": "yQMQeVk-obc7"
      },
      "id": "yQMQeVk-obc7",
      "execution_count": 312,
      "outputs": []
    },
    {
      "cell_type": "code",
      "source": [
        "loss2"
      ],
      "metadata": {
        "colab": {
          "base_uri": "https://localhost:8080/"
        },
        "id": "794pktpwpbMv",
        "outputId": "cd876065-eff3-4f99-b9ff-467c51859240"
      },
      "id": "794pktpwpbMv",
      "execution_count": 313,
      "outputs": [
        {
          "output_type": "execute_result",
          "data": {
            "text/plain": [
              "[tensor(2.8029),\n",
              " tensor(14.8371),\n",
              " tensor(31.9333),\n",
              " tensor(78.1267),\n",
              " tensor(106.2426),\n",
              " tensor(172.3103),\n",
              " tensor(253.5123)]"
            ]
          },
          "metadata": {},
          "execution_count": 313
        }
      ]
    },
    {
      "cell_type": "code",
      "source": [
        "plt.figure(figsize=(24, 5))\n",
        "\n",
        "ax = plt.subplot(121)\n",
        "g = plt.bar(range(len(loss)), loss, color='royalblue')\n",
        "\n",
        "plt.axhline(y=max(loss), color='b', linestyle='--', label=f'Max. loss.: {max(loss)}')\n",
        "\n",
        "plt.title('Norm of difference', fontsize=25)\n",
        "plt.xlabel('ranks', fontsize=15)\n",
        "plt.ylabel('Difference', fontsize=15)\n",
        "ax.tick_params(axis='both', which='major', labelsize=15)\n",
        "\n",
        "ax.set_xticklabels([None]+ranks) \n",
        "plt.grid(True)\n",
        "plt.legend(loc='best', fontsize=15)\n",
        "\n",
        "ax = plt.subplot(122)\n",
        "g = plt.bar(range(len(loss2)), loss2, color='royalblue')\n",
        "\n",
        "plt.axhline(y=max(loss2), color='b', linestyle='--', label=f'Max. loss.: {max(loss2)}')\n",
        "\n",
        "plt.title('Norm of difference for shapeshifter', fontsize=25)\n",
        "plt.xlabel('ranks', fontsize=15)\n",
        "plt.ylabel('Difference', fontsize=15)\n",
        "ax.tick_params(axis='both', which='major', labelsize=15)\n",
        "\n",
        "ax.set_xticklabels([None]+ranks) \n",
        "plt.grid(True)\n",
        "plt.legend(loc='best', fontsize=15)\n",
        "plt.savefig('./losses.png')\n",
        "plt.show()"
      ],
      "metadata": {
        "colab": {
          "base_uri": "https://localhost:8080/",
          "height": 369
        },
        "id": "dhx6IFlMpFy8",
        "outputId": "0dfe4501-2e53-42e3-d56b-96b2c8410e5c"
      },
      "id": "dhx6IFlMpFy8",
      "execution_count": 317,
      "outputs": [
        {
          "output_type": "display_data",
          "data": {
            "text/plain": [
              "<Figure size 1728x360 with 2 Axes>"
            ],
            "image/png": "[encoded data removed]"
          },
          "metadata": {
            "needs_background": "light"
          }
        }
      ]
    },
    {
      "cell_type": "code",
      "source": [],
      "metadata": {
        "id": "3rfT_W0qp578"
      },
      "id": "3rfT_W0qp578",
      "execution_count": null,
      "outputs": []
    }
  ],
  "metadata": {
    "kernelspec": {
      "display_name": "Python 3 (ipykernel)",
      "language": "python",
      "name": "python3"
    },
    "language_info": {
      "codemirror_mode": {
        "name": "ipython",
        "version": 3
      },
      "file_extension": ".py",
      "mimetype": "text/x-python",
      "name": "python",
      "nbconvert_exporter": "python",
      "pygments_lexer": "ipython3",
      "version": "3.10.6"
    },
    "colab": {
      "provenance": []
    }
  },
  "nbformat": 4,
  "nbformat_minor": 5
}